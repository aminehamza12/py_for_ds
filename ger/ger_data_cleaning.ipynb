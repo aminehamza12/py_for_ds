{
 "cells": [
  {
   "cell_type": "markdown",
   "metadata": {},
   "source": [
    "# Data Cleaning"
   ]
  },
  {
   "cell_type": "code",
   "execution_count": 5,
   "metadata": {},
   "outputs": [],
   "source": [
    "import pandas as pd"
   ]
  },
  {
   "cell_type": "code",
   "execution_count": 6,
   "metadata": {},
   "outputs": [],
   "source": [
    "data = pd.read_table(f\"C:/Users/Brahim/Desktop/prog/ETL/german.data\",delimiter=\" \",header=None)\n",
    "data.columns = ['Status_Account', 'Duration', 'Credit_History', 'Purpose', 'Credit_Amount',\n",
    "                     'Saving_Account', 'Present', 'Installment', 'Personal_Status', 'Other',\n",
    "                         'Residence', 'Property', 'Age', 'Other_Installment', 'Housing', 'Existing_Credits',\n",
    "                             'Job', 'Liable_People', 'Tel', 'Foreign_Worker', 'Actual_Score']\n"
   ]
  },
  {
   "cell_type": "code",
   "execution_count": 7,
   "metadata": {},
   "outputs": [],
   "source": [
    "export_csv = data.to_csv(r'C:\\Users\\Brahim\\Desktop\\prog\\ger_data.csv', index = None, header=True)"
   ]
  },
  {
   "cell_type": "code",
   "execution_count": null,
   "metadata": {},
   "outputs": [],
   "source": [
    "#data3 = pd.read_csv(r'C:\\Users\\Brahim\\Desktop\\prog\\ger_data.csv')"
   ]
  }
 ],
 "metadata": {
  "kernelspec": {
   "display_name": "Python 3",
   "language": "python",
   "name": "python3"
  },
  "language_info": {
   "codemirror_mode": {
    "name": "ipython",
    "version": 3
   },
   "file_extension": ".py",
   "mimetype": "text/x-python",
   "name": "python",
   "nbconvert_exporter": "python",
   "pygments_lexer": "ipython3",
   "version": "3.7.4"
  }
 },
 "nbformat": 4,
 "nbformat_minor": 4
}
