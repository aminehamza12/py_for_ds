{
 "cells": [
  {
   "cell_type": "code",
   "execution_count": 177,
   "metadata": {},
   "outputs": [],
   "source": [
    "import pandas as pd\n",
    "import numpy as np\n",
    "from sklearn.preprocessing import OneHotEncoder\n",
    "from sklearn.preprocessing import LabelEncoder\n",
    "\n",
    "\n",
    "import plotly.offline as py \n",
    "import matplotlib.pyplot as plt\n",
    "import seaborn as sns\n",
    "%matplotlib inline\n"
   ]
  },
  {
   "cell_type": "code",
   "execution_count": 178,
   "metadata": {},
   "outputs": [],
   "source": [
    "americaOrigin = pd.read_csv(\"Bank_of_America_data.csv\")\n",
    "target = americaOrigin['BAD']\n",
    "america_cat_or = americaOrigin.iloc[:,[7,8,10,4,5]]"
   ]
  },
  {
   "cell_type": "code",
   "execution_count": 179,
   "metadata": {},
   "outputs": [
    {
     "name": "stdout",
     "output_type": "stream",
     "text": [
      "<class 'pandas.core.frame.DataFrame'>\n",
      "RangeIndex: 5960 entries, 0 to 5959\n",
      "Data columns (total 13 columns):\n",
      "BAD        5960 non-null int64\n",
      "LOAN       5960 non-null int64\n",
      "MORTDUE    5442 non-null float64\n",
      "VALUE      5848 non-null float64\n",
      "REASON     5708 non-null object\n",
      "JOB        5681 non-null object\n",
      "YOJ        5445 non-null float64\n",
      "DEROG      5252 non-null float64\n",
      "DELINQ     5380 non-null float64\n",
      "CLAGE      5652 non-null float64\n",
      "NINQ       5450 non-null float64\n",
      "CLNO       5738 non-null float64\n",
      "DEBTINC    4693 non-null float64\n",
      "dtypes: float64(9), int64(2), object(2)\n",
      "memory usage: 605.4+ KB\n"
     ]
    }
   ],
   "source": [
    "americaOrigin.info()"
   ]
  },
  {
   "cell_type": "code",
   "execution_count": 208,
   "metadata": {},
   "outputs": [
    {
     "data": {
      "text/plain": [
       "False"
      ]
     },
     "execution_count": 208,
     "metadata": {},
     "output_type": "execute_result"
    }
   ],
   "source": [
    "'JOB' not in americaOrigin.columns"
   ]
  },
  {
   "cell_type": "code",
   "execution_count": 209,
   "metadata": {},
   "outputs": [],
   "source": [
    "def QualiQuantiDecomposition(data):\n",
    "    data_cat = data.select_dtypes(include=['object'])\n",
    "    data_num = data._get_numeric_data()\n",
    "    dictEnc = {}\n",
    "    var_categs = []\n",
    "    \n",
    "    data_cat_imputed = data_cat.apply(lambda x: x.fillna(x.value_counts().index[0]))\n",
    "    \n",
    "#     data_cat_imputed = data_cat.apply(lambda x: x.fillna(\"Unknown\"))\n",
    "\n",
    "    for col in data_cat.columns:\n",
    "        le = LabelEncoder()\n",
    "        varLE = le.fit_transform(data_cat_imputed[col])\n",
    "        dictEnc[col] = le\n",
    "        var_categs.append(pd.DataFrame(varLE))\n",
    "    \n",
    "    data_cat_LE = pd.concat(var_categs, axis=1)\n",
    "    ohe = OneHotEncoder()\n",
    "    data_cat_OH = ohe.fit_transform(data_cat_LE)\n",
    "    dictEnc['onehot'] = ohe\n",
    "        \n",
    "#     le = LabelEncoder()\n",
    "#     jobLE = le.fit_transform(data_cat_imputed['JOB'])\n",
    "#     dictEnc['job'] = le\n",
    "#     le2 = LabelEncoder()\n",
    "#     reasonLE = le2.fit_transform(data_cat_imputed['REASON'])\n",
    "#     dictEnc['reason'] = le2\n",
    "#     data_cat_LE = pd.concat([pd.DataFrame(reasonLE),pd.DataFrame(jobLE)], axis=1)\n",
    "#     ohe = OneHotEncoder()\n",
    "#     data_cat_OH = ohe.fit_transform(data_cat_LE)\n",
    "#     dictEnc['onehot'] = ohe\n",
    "\n",
    "    \n",
    "#     for col in data_cat:\n",
    "#         onehot = pd.get_dummies(data_cat[col])\n",
    "#         data_cat = data_cat.drop(col,axis = 1)\n",
    "#         data_cat = data_cat.join(onehot)\n",
    "    \n",
    "    data_discrete = data_num[['DEROG', 'DELINQ', 'NINQ']]\n",
    "    \n",
    "    data_discrete_interpolated = data_discrete.interpolate()\n",
    "    \n",
    "    data_cat = pd.concat([data_discrete_interpolated, pd.DataFrame(data_cat_OH.toarray())], axis=1)\n",
    "    \n",
    "    data_num.drop(['DEROG', 'DELINQ', 'NINQ'], axis=1, inplace = True)    \n",
    "        \n",
    "    for col in data_num: \n",
    "        cols = []\n",
    "        qmn = data_num[col].quantile(q=0.25)\n",
    "        qmx = data_num[col].quantile(q=0.75)\n",
    "        data_num[col] = data_num[col].apply(lambda x : qmn if x < qmn else (qmx if x > qmx else x))\n",
    "        \n",
    "    return data_num, data_cat, dictEnc"
   ]
  },
  {
   "cell_type": "code",
   "execution_count": 210,
   "metadata": {},
   "outputs": [
    {
     "name": "stderr",
     "output_type": "stream",
     "text": [
      "C:\\Users\\USER\\Anaconda3\\lib\\site-packages\\sklearn\\preprocessing\\_encoders.py:415: FutureWarning:\n",
      "\n",
      "The handling of integer data will change in version 0.22. Currently, the categories are determined based on the range [0, max(values)], while in the future they will be determined based on the unique values.\n",
      "If you want the future behaviour and silence this warning, you can specify \"categories='auto'\".\n",
      "In case you used a LabelEncoder before this OneHotEncoder to convert the categories to integers, then you can now use the OneHotEncoder directly.\n",
      "\n"
     ]
    }
   ],
   "source": [
    "america_num_or, america_cat, dictEnc = QualiQuantiDecomposition(americaOrigin.drop('BAD', axis=1))"
   ]
  },
  {
   "cell_type": "code",
   "execution_count": 200,
   "metadata": {},
   "outputs": [],
   "source": [
    "def fillNAN(data, method):\n",
    "    if method == \"mean\":\n",
    "        return data.fillna(data.mean())\n",
    "    elif method == \"median\":\n",
    "        return data.fillna(data.median())\n",
    "    else:\n",
    "        return \"error\""
   ]
  },
  {
   "cell_type": "code",
   "execution_count": 201,
   "metadata": {},
   "outputs": [
    {
     "data": {
      "text/html": [
       "<div>\n",
       "<style scoped>\n",
       "    .dataframe tbody tr th:only-of-type {\n",
       "        vertical-align: middle;\n",
       "    }\n",
       "\n",
       "    .dataframe tbody tr th {\n",
       "        vertical-align: top;\n",
       "    }\n",
       "\n",
       "    .dataframe thead th {\n",
       "        text-align: right;\n",
       "    }\n",
       "</style>\n",
       "<table border=\"1\" class=\"dataframe\">\n",
       "  <thead>\n",
       "    <tr style=\"text-align: right;\">\n",
       "      <th></th>\n",
       "      <th>LOAN</th>\n",
       "      <th>MORTDUE</th>\n",
       "      <th>VALUE</th>\n",
       "      <th>YOJ</th>\n",
       "      <th>CLAGE</th>\n",
       "      <th>CLNO</th>\n",
       "      <th>DEBTINC</th>\n",
       "    </tr>\n",
       "  </thead>\n",
       "  <tbody>\n",
       "    <tr>\n",
       "      <th>0</th>\n",
       "      <td>11100.0</td>\n",
       "      <td>46276.0</td>\n",
       "      <td>66075.5</td>\n",
       "      <td>10.5</td>\n",
       "      <td>115.116702</td>\n",
       "      <td>15.0</td>\n",
       "      <td>34.818262</td>\n",
       "    </tr>\n",
       "    <tr>\n",
       "      <th>1</th>\n",
       "      <td>11100.0</td>\n",
       "      <td>70053.0</td>\n",
       "      <td>68400.0</td>\n",
       "      <td>7.0</td>\n",
       "      <td>121.833333</td>\n",
       "      <td>15.0</td>\n",
       "      <td>34.818262</td>\n",
       "    </tr>\n",
       "    <tr>\n",
       "      <th>2</th>\n",
       "      <td>11100.0</td>\n",
       "      <td>46276.0</td>\n",
       "      <td>66075.5</td>\n",
       "      <td>4.0</td>\n",
       "      <td>149.466667</td>\n",
       "      <td>15.0</td>\n",
       "      <td>34.818262</td>\n",
       "    </tr>\n",
       "    <tr>\n",
       "      <th>3</th>\n",
       "      <td>11100.0</td>\n",
       "      <td>65019.0</td>\n",
       "      <td>89235.5</td>\n",
       "      <td>7.0</td>\n",
       "      <td>173.466667</td>\n",
       "      <td>20.0</td>\n",
       "      <td>34.818262</td>\n",
       "    </tr>\n",
       "    <tr>\n",
       "      <th>4</th>\n",
       "      <td>11100.0</td>\n",
       "      <td>91488.0</td>\n",
       "      <td>112000.0</td>\n",
       "      <td>3.0</td>\n",
       "      <td>115.116702</td>\n",
       "      <td>15.0</td>\n",
       "      <td>34.818262</td>\n",
       "    </tr>\n",
       "  </tbody>\n",
       "</table>\n",
       "</div>"
      ],
      "text/plain": [
       "      LOAN  MORTDUE     VALUE   YOJ       CLAGE  CLNO    DEBTINC\n",
       "0  11100.0  46276.0   66075.5  10.5  115.116702  15.0  34.818262\n",
       "1  11100.0  70053.0   68400.0   7.0  121.833333  15.0  34.818262\n",
       "2  11100.0  46276.0   66075.5   4.0  149.466667  15.0  34.818262\n",
       "3  11100.0  65019.0   89235.5   7.0  173.466667  20.0  34.818262\n",
       "4  11100.0  91488.0  112000.0   3.0  115.116702  15.0  34.818262"
      ]
     },
     "execution_count": 201,
     "metadata": {},
     "output_type": "execute_result"
    }
   ],
   "source": [
    "fillNAN(america_num_or, \"median\").head()"
   ]
  },
  {
   "cell_type": "code",
   "execution_count": 202,
   "metadata": {},
   "outputs": [],
   "source": [
    "# america_num = fillNAN(america_num_or, \"mean\")"
   ]
  },
  {
   "cell_type": "code",
   "execution_count": 203,
   "metadata": {},
   "outputs": [
    {
     "name": "stdout",
     "output_type": "stream",
     "text": [
      "[['LOAN', 0], ['MORTDUE', 0], ['VALUE', 0], ['YOJ', 0], ['CLAGE', 0], ['DEBTINC', 0]]\n"
     ]
    }
   ],
   "source": [
    "nans = []\n",
    "for i in america_num.columns:\n",
    "    nans.append([i,len(america_num[i][america_num[i].isna()])])\n",
    "print(nans)"
   ]
  },
  {
   "cell_type": "code",
   "execution_count": 204,
   "metadata": {},
   "outputs": [
    {
     "name": "stderr",
     "output_type": "stream",
     "text": [
      "C:\\Users\\USER\\Anaconda3\\lib\\site-packages\\seaborn\\axisgrid.py:1847: UserWarning:\n",
      "\n",
      "JointGrid annotation is deprecated and will be removed in a future release.\n",
      "\n"
     ]
    },
    {
     "data": {
      "image/png": "[encoded data removed]",
      "text/plain": [
       "<Figure size 576x576 with 3 Axes>"
      ]
     },
     "metadata": {
      "needs_background": "light"
     },
     "output_type": "display_data"
    }
   ],
   "source": [
    "import scipy.stats as stats\n",
    "r1 = sns.jointplot(x=\"MORTDUE\",y=\"VALUE\", data=america_num, kind=\"reg\", height=8)\n",
    "r1.annotate(stats.pearsonr)\n",
    "plt.show()"
   ]
  },
  {
   "cell_type": "markdown",
   "metadata": {},
   "source": [
    "### JOIN DATA "
   ]
  },
  {
   "cell_type": "code",
   "execution_count": 205,
   "metadata": {},
   "outputs": [],
   "source": [
    "america_joined = pd.concat([america_num, america_cat], axis=1)"
   ]
  },
  {
   "cell_type": "markdown",
   "metadata": {},
   "source": [
    "# Classification "
   ]
  },
  {
   "cell_type": "markdown",
   "metadata": {},
   "source": [
    "## KNN "
   ]
  },
  {
   "cell_type": "code",
   "execution_count": 14,
   "metadata": {},
   "outputs": [],
   "source": [
    "from sklearn.model_selection import train_test_split\n",
    "X_train, X_test, y_train, y_test = train_test_split(america_joined, target, random_state=0)"
   ]
  },
  {
   "cell_type": "code",
   "execution_count": 15,
   "metadata": {},
   "outputs": [],
   "source": [
    "from sklearn.neighbors import KNeighborsClassifier\n"
   ]
  },
  {
   "cell_type": "code",
   "execution_count": 16,
   "metadata": {},
   "outputs": [],
   "source": [
    "error = []\n",
    "for i in range(1, 40):\n",
    "    knn = KNeighborsClassifier(n_neighbors=i)\n",
    "    knn_model = knn.fit(X_train, y_train)\n",
    "    pred_i = knn_model.predict(X_test)\n",
    "    error.append(np.mean(pred_i != y_test))"
   ]
  },
  {
   "cell_type": "code",
   "execution_count": 17,
   "metadata": {},
   "outputs": [
    {
     "data": {
      "text/plain": [
       "Text(0, 0.5, 'Erreur')"
      ]
     },
     "execution_count": 17,
     "metadata": {},
     "output_type": "execute_result"
    },
    {
     "data": {
      "image/png": "[encoded data removed]",
      "text/plain": [
       "<Figure size 864x432 with 1 Axes>"
      ]
     },
     "metadata": {
      "needs_background": "light"
     },
     "output_type": "display_data"
    }
   ],
   "source": [
    "plt.figure(figsize=(12, 6))\n",
    "plt.plot(range(1, 40), error, color='red', linestyle='dashed', marker='o',\n",
    "         markerfacecolor='blue', markersize=10)\n",
    "plt.title('Taux Erreur pour les differentes valeurs de k')\n",
    "plt.xlabel('K ')\n",
    "plt.ylabel('Erreur')"
   ]
  },
  {
   "cell_type": "markdown",
   "metadata": {},
   "source": [
    "### On choisit 6 "
   ]
  },
  {
   "cell_type": "code",
   "execution_count": 18,
   "metadata": {},
   "outputs": [],
   "source": [
    "knn = KNeighborsClassifier(n_neighbors=6)\n",
    "knn_model = knn.fit(X_train, y_train)\n",
    "y_pred_knn = knn_model.predict(X_test)"
   ]
  },
  {
   "cell_type": "code",
   "execution_count": 19,
   "metadata": {},
   "outputs": [
    {
     "data": {
      "text/plain": [
       "0.825503355704698"
      ]
     },
     "execution_count": 19,
     "metadata": {},
     "output_type": "execute_result"
    }
   ],
   "source": [
    "knn.score(X_test, y_test)"
   ]
  },
  {
   "cell_type": "code",
   "execution_count": 20,
   "metadata": {},
   "outputs": [
    {
     "name": "stdout",
     "output_type": "stream",
     "text": [
      "              precision    recall  f1-score   support\n",
      "\n",
      "           0       0.83      0.98      0.90      1194\n",
      "           1       0.74      0.19      0.30       296\n",
      "\n",
      "    accuracy                           0.83      1490\n",
      "   macro avg       0.78      0.59      0.60      1490\n",
      "weighted avg       0.81      0.83      0.78      1490\n",
      "\n"
     ]
    }
   ],
   "source": [
    "from sklearn.metrics import classification_report\n",
    "print(classification_report(y_test, y_pred_knn))"
   ]
  },
  {
   "cell_type": "markdown",
   "metadata": {},
   "source": [
    "# Feature Selection "
   ]
  },
  {
   "cell_type": "code",
   "execution_count": 21,
   "metadata": {},
   "outputs": [],
   "source": [
    "from sklearn.feature_selection import chi2, SelectKBest, f_classif\n"
   ]
  },
  {
   "cell_type": "markdown",
   "metadata": {},
   "source": [
    "### Correlation between Categorical variables and Target "
   ]
  },
  {
   "cell_type": "code",
   "execution_count": 22,
   "metadata": {},
   "outputs": [],
   "source": [
    "amerCat2 = america_cat"
   ]
  },
  {
   "cell_type": "code",
   "execution_count": 23,
   "metadata": {},
   "outputs": [
    {
     "data": {
      "text/plain": [
       "(array([1075.70672406, 1806.77439124,  409.07364279]),\n",
       " array([6.29423743e-236, 0.00000000e+000, 5.83137798e-091]))"
      ]
     },
     "execution_count": 23,
     "metadata": {},
     "output_type": "execute_result"
    }
   ],
   "source": [
    "chi2(america_cat[['DEROG', 'DELINQ', 'NINQ']].dropna(), target)\n",
    "# X_new = SelectKBest(chi2, k=2).fit_transform(america_cat_or['NINQ'], target)"
   ]
  },
  {
   "cell_type": "code",
   "execution_count": 24,
   "metadata": {},
   "outputs": [],
   "source": [
    "from sklearn import preprocessing\n",
    "\n",
    "def QualiQuantiDecompositionLE(data):\n",
    "    data_cat = data.select_dtypes(include=['object'])\n",
    "    data_num = data._get_numeric_data()\n",
    "    \n",
    "    data_cat_imputed = data_cat.apply(lambda x: x.fillna(x.value_counts().index[0]))\n",
    "    \n",
    "#     data_cat_imputed = data_cat.apply(lambda x: x.fillna(\"Unknown\"))\n",
    "    \n",
    "    le = preprocessing.LabelEncoder()\n",
    "    job = le.fit_transform(data_cat_imputed['JOB'])\n",
    "    data_cat_imputed = data_cat_imputed.drop('JOB',axis = 1)\n",
    "    data_cat_imputed = pd.concat([data_cat_imputed, pd.DataFrame(job)], axis=1)\n",
    "    data_cat_imputed.rename(columns = {0 : 'JOB'}, inplace=True)\n",
    "#     data_cat_imputed = data_cat_imputed.join(pd.DataFrame(job))\n",
    "    reason = le.fit_transform(data_cat_imputed['REASON'])\n",
    "    data_cat_imputed = data_cat_imputed.drop('REASON',axis = 1)\n",
    "    data_cat_imputed = pd.concat([data_cat_imputed, pd.DataFrame(reason)], axis=1)\n",
    "#     data_cat_imputed = data_cat_imputed.join(pd.DataFrame(reason))\n",
    "    \n",
    "    data_cat_imputed.rename(columns = {0 : 'REASON'}, inplace= True)\n",
    "    \n",
    "    data_discrete = data_num[['DEROG', 'DELINQ', 'NINQ']]\n",
    "    \n",
    "    data_discrete_interpolated = data_discrete.interpolate()\n",
    "    \n",
    "    data_cat = pd.concat([data_discrete_interpolated, data_cat_imputed], axis=1)\n",
    "    \n",
    "    data_num.drop(['DEROG', 'DELINQ', 'NINQ'], axis=1, inplace = True)    \n",
    "        \n",
    "    for col in data_num: \n",
    "        cols = []\n",
    "        qmn = data_num[col].quantile(q=0.25)\n",
    "        qmx = data_num[col].quantile(q=0.75)\n",
    "        data_num[col] = data_num[col].apply(lambda x : qmn if x < qmn else (qmx if x > qmx else x))\n",
    "        \n",
    "    return data_num, data_cat"
   ]
  },
  {
   "cell_type": "code",
   "execution_count": 25,
   "metadata": {},
   "outputs": [],
   "source": [
    "datanum, datacat2 = QualiQuantiDecompositionLE(americaOrigin)"
   ]
  },
  {
   "cell_type": "markdown",
   "metadata": {},
   "source": [
    "## Teste de Chi2 sur les variables Quantitatives et Target "
   ]
  },
  {
   "cell_type": "code",
   "execution_count": 26,
   "metadata": {},
   "outputs": [],
   "source": [
    "ch2 = chi2(datacat2, target)\n",
    "# X_new = SelectKBest(chi2, k=2).fit_transform(america_cat_or['NINQ'], target)"
   ]
  },
  {
   "cell_type": "code",
   "execution_count": 27,
   "metadata": {},
   "outputs": [
    {
     "data": {
      "text/plain": [
       "([<matplotlib.axis.XTick at 0x1aa3e086470>,\n",
       "  <matplotlib.axis.XTick at 0x1aa3e1e82b0>,\n",
       "  <matplotlib.axis.XTick at 0x1aa3d577cc0>,\n",
       "  <matplotlib.axis.XTick at 0x1aa3e08b198>,\n",
       "  <matplotlib.axis.XTick at 0x1aa3e08b668>],\n",
       " <a list of 5 Text xticklabel objects>)"
      ]
     },
     "execution_count": 27,
     "metadata": {},
     "output_type": "execute_result"
    },
    {
     "data": {
      "image/png": "[encoded data removed]",
      "text/plain": [
       "<Figure size 432x288 with 1 Axes>"
      ]
     },
     "metadata": {
      "needs_background": "light"
     },
     "output_type": "display_data"
    }
   ],
   "source": [
    "x = np.arange(0,5)\n",
    "plt.bar(x , ch2[1])\n",
    "plt.xticks(x, datacat2.columns)"
   ]
  },
  {
   "cell_type": "markdown",
   "metadata": {},
   "source": [
    "### la variable Job n'est pas corrélée donc on la supprime"
   ]
  },
  {
   "cell_type": "markdown",
   "metadata": {},
   "source": [
    "## Teste ANOVA sur les variables Qualitatives et Target "
   ]
  },
  {
   "cell_type": "code",
   "execution_count": 28,
   "metadata": {},
   "outputs": [
    {
     "data": {
      "text/plain": [
       "(array([ 54.5636847 ,  30.94152177,  23.28617463,  16.68236589,\n",
       "        185.55764979,   0.26321967,  29.20957464]),\n",
       " array([1.71158828e-13, 2.77491441e-08, 1.43078490e-06, 4.47692374e-05,\n",
       "        1.24000696e-41, 6.07935801e-01, 6.74798083e-08]))"
      ]
     },
     "execution_count": 28,
     "metadata": {},
     "output_type": "execute_result"
    }
   ],
   "source": [
    "anovaTest = f_classif(america_num, target)\n",
    "anovaTest"
   ]
  },
  {
   "cell_type": "code",
   "execution_count": 29,
   "metadata": {},
   "outputs": [
    {
     "data": {
      "text/plain": [
       "([<matplotlib.axis.XTick at 0x1aa3e0c5198>,\n",
       "  <matplotlib.axis.XTick at 0x1aa3e03df28>,\n",
       "  <matplotlib.axis.XTick at 0x1aa3e0a0f98>,\n",
       "  <matplotlib.axis.XTick at 0x1aa3e0f3320>,\n",
       "  <matplotlib.axis.XTick at 0x1aa3e0f37f0>,\n",
       "  <matplotlib.axis.XTick at 0x1aa3e0f3c18>,\n",
       "  <matplotlib.axis.XTick at 0x1aa3e0fc1d0>],\n",
       " <a list of 7 Text xticklabel objects>)"
      ]
     },
     "execution_count": 29,
     "metadata": {},
     "output_type": "execute_result"
    },
    {
     "data": {
      "image/png": "[encoded data removed]",
      "text/plain": [
       "<Figure size 432x288 with 1 Axes>"
      ]
     },
     "metadata": {
      "needs_background": "light"
     },
     "output_type": "display_data"
    }
   ],
   "source": [
    "x = np.arange(0,7)\n",
    "plt.bar(x , anovaTest[1])\n",
    "plt.xticks(x, america_num.columns)"
   ]
  },
  {
   "cell_type": "markdown",
   "metadata": {},
   "source": [
    "## Tau de Kendall "
   ]
  },
  {
   "cell_type": "code",
   "execution_count": 30,
   "metadata": {},
   "outputs": [
    {
     "data": {
      "text/plain": [
       "(5960, 7)"
      ]
     },
     "execution_count": 30,
     "metadata": {},
     "output_type": "execute_result"
    }
   ],
   "source": [
    "america_num.shape"
   ]
  },
  {
   "cell_type": "code",
   "execution_count": 31,
   "metadata": {},
   "outputs": [],
   "source": [
    "from scipy import stats\n",
    "pvalues = []\n",
    "cols = []\n",
    "for i in america_num.columns:\n",
    "    tau, p_value = stats.kendalltau(america_num[i], target)\n",
    "    pvalues.append(p_value)\n",
    "    cols.append(i)\n"
   ]
  },
  {
   "cell_type": "code",
   "execution_count": 32,
   "metadata": {},
   "outputs": [
    {
     "data": {
      "text/plain": [
       "([<matplotlib.axis.XTick at 0x1aa3e1314e0>,\n",
       "  <matplotlib.axis.XTick at 0x1aa3e0fcb00>,\n",
       "  <matplotlib.axis.XTick at 0x1aa3e0fcf60>,\n",
       "  <matplotlib.axis.XTick at 0x1aa3e15e438>,\n",
       "  <matplotlib.axis.XTick at 0x1aa3e15e8d0>,\n",
       "  <matplotlib.axis.XTick at 0x1aa3e15ee10>,\n",
       "  <matplotlib.axis.XTick at 0x1aa3e1663c8>],\n",
       " <a list of 7 Text xticklabel objects>)"
      ]
     },
     "execution_count": 32,
     "metadata": {},
     "output_type": "execute_result"
    },
    {
     "data": {
      "image/png": "[encoded data removed]",
      "text/plain": [
       "<Figure size 432x288 with 1 Axes>"
      ]
     },
     "metadata": {
      "needs_background": "light"
     },
     "output_type": "display_data"
    }
   ],
   "source": [
    "x = np.arange(0,7)\n",
    "plt.bar(x , pvalues)\n",
    "plt.xticks(x, cols)"
   ]
  },
  {
   "cell_type": "markdown",
   "metadata": {},
   "source": [
    "### CLNO n'est pas corrélée avec la variable cible donc on supprime CLNO "
   ]
  },
  {
   "cell_type": "code",
   "execution_count": 212,
   "metadata": {},
   "outputs": [
    {
     "name": "stderr",
     "output_type": "stream",
     "text": [
      "C:\\Users\\USER\\Anaconda3\\lib\\site-packages\\sklearn\\preprocessing\\_encoders.py:415: FutureWarning:\n",
      "\n",
      "The handling of integer data will change in version 0.22. Currently, the categories are determined based on the range [0, max(values)], while in the future they will be determined based on the unique values.\n",
      "If you want the future behaviour and silence this warning, you can specify \"categories='auto'\".\n",
      "In case you used a LabelEncoder before this OneHotEncoder to convert the categories to integers, then you can now use the OneHotEncoder directly.\n",
      "\n"
     ]
    }
   ],
   "source": [
    "america_num, america_cat, dict_Enc = QualiQuantiDecomposition(americaOrigin.drop(['BAD', 'CLNO', 'JOB'], axis=1))\n",
    "america_num_or = america_num"
   ]
  },
  {
   "cell_type": "code",
   "execution_count": 213,
   "metadata": {},
   "outputs": [],
   "source": [
    "america_num = fillNAN(america_num_or, \"median\")"
   ]
  },
  {
   "cell_type": "code",
   "execution_count": 214,
   "metadata": {},
   "outputs": [
    {
     "name": "stderr",
     "output_type": "stream",
     "text": [
      "C:\\Users\\USER\\Anaconda3\\lib\\site-packages\\seaborn\\axisgrid.py:1847: UserWarning:\n",
      "\n",
      "JointGrid annotation is deprecated and will be removed in a future release.\n",
      "\n"
     ]
    },
    {
     "data": {
      "image/png": "[encoded data removed]",
      "text/plain": [
       "<Figure size 576x576 with 3 Axes>"
      ]
     },
     "metadata": {
      "needs_background": "light"
     },
     "output_type": "display_data"
    }
   ],
   "source": [
    "import scipy.stats as stats\n",
    "r1 = sns.jointplot(x=\"MORTDUE\",y=\"VALUE\", data=america_num, kind=\"reg\", height=8)\n",
    "r1.annotate(stats.pearsonr)\n",
    "plt.show()"
   ]
  },
  {
   "cell_type": "code",
   "execution_count": 215,
   "metadata": {},
   "outputs": [],
   "source": [
    "america_joined = pd.concat([america_num, america_cat], axis=1)\n",
    "X_train, X_test, y_train, y_test = train_test_split(america_joined, target, random_state=0)"
   ]
  },
  {
   "cell_type": "code",
   "execution_count": 216,
   "metadata": {},
   "outputs": [
    {
     "data": {
      "text/html": [
       "<div>\n",
       "<style scoped>\n",
       "    .dataframe tbody tr th:only-of-type {\n",
       "        vertical-align: middle;\n",
       "    }\n",
       "\n",
       "    .dataframe tbody tr th {\n",
       "        vertical-align: top;\n",
       "    }\n",
       "\n",
       "    .dataframe thead th {\n",
       "        text-align: right;\n",
       "    }\n",
       "</style>\n",
       "<table border=\"1\" class=\"dataframe\">\n",
       "  <thead>\n",
       "    <tr style=\"text-align: right;\">\n",
       "      <th></th>\n",
       "      <th>LOAN</th>\n",
       "      <th>MORTDUE</th>\n",
       "      <th>VALUE</th>\n",
       "      <th>YOJ</th>\n",
       "      <th>CLAGE</th>\n",
       "      <th>DEBTINC</th>\n",
       "      <th>DEROG</th>\n",
       "      <th>DELINQ</th>\n",
       "      <th>NINQ</th>\n",
       "      <th>0</th>\n",
       "      <th>1</th>\n",
       "    </tr>\n",
       "  </thead>\n",
       "  <tbody>\n",
       "    <tr>\n",
       "      <th>0</th>\n",
       "      <td>11100.0</td>\n",
       "      <td>46276.0</td>\n",
       "      <td>66075.5</td>\n",
       "      <td>10.5</td>\n",
       "      <td>115.116702</td>\n",
       "      <td>34.818262</td>\n",
       "      <td>0.0</td>\n",
       "      <td>0.0</td>\n",
       "      <td>1.0</td>\n",
       "      <td>0.0</td>\n",
       "      <td>1.0</td>\n",
       "    </tr>\n",
       "    <tr>\n",
       "      <th>1</th>\n",
       "      <td>11100.0</td>\n",
       "      <td>70053.0</td>\n",
       "      <td>68400.0</td>\n",
       "      <td>7.0</td>\n",
       "      <td>121.833333</td>\n",
       "      <td>34.818262</td>\n",
       "      <td>0.0</td>\n",
       "      <td>2.0</td>\n",
       "      <td>0.0</td>\n",
       "      <td>0.0</td>\n",
       "      <td>1.0</td>\n",
       "    </tr>\n",
       "    <tr>\n",
       "      <th>2</th>\n",
       "      <td>11100.0</td>\n",
       "      <td>46276.0</td>\n",
       "      <td>66075.5</td>\n",
       "      <td>4.0</td>\n",
       "      <td>149.466667</td>\n",
       "      <td>34.818262</td>\n",
       "      <td>0.0</td>\n",
       "      <td>0.0</td>\n",
       "      <td>1.0</td>\n",
       "      <td>0.0</td>\n",
       "      <td>1.0</td>\n",
       "    </tr>\n",
       "    <tr>\n",
       "      <th>3</th>\n",
       "      <td>11100.0</td>\n",
       "      <td>65019.0</td>\n",
       "      <td>89235.5</td>\n",
       "      <td>7.0</td>\n",
       "      <td>173.466667</td>\n",
       "      <td>34.818262</td>\n",
       "      <td>0.0</td>\n",
       "      <td>0.0</td>\n",
       "      <td>0.5</td>\n",
       "      <td>1.0</td>\n",
       "      <td>0.0</td>\n",
       "    </tr>\n",
       "    <tr>\n",
       "      <th>4</th>\n",
       "      <td>11100.0</td>\n",
       "      <td>91488.0</td>\n",
       "      <td>112000.0</td>\n",
       "      <td>3.0</td>\n",
       "      <td>115.116702</td>\n",
       "      <td>34.818262</td>\n",
       "      <td>0.0</td>\n",
       "      <td>0.0</td>\n",
       "      <td>0.0</td>\n",
       "      <td>0.0</td>\n",
       "      <td>1.0</td>\n",
       "    </tr>\n",
       "  </tbody>\n",
       "</table>\n",
       "</div>"
      ],
      "text/plain": [
       "      LOAN  MORTDUE     VALUE   YOJ       CLAGE    DEBTINC  DEROG  DELINQ  \\\n",
       "0  11100.0  46276.0   66075.5  10.5  115.116702  34.818262    0.0     0.0   \n",
       "1  11100.0  70053.0   68400.0   7.0  121.833333  34.818262    0.0     2.0   \n",
       "2  11100.0  46276.0   66075.5   4.0  149.466667  34.818262    0.0     0.0   \n",
       "3  11100.0  65019.0   89235.5   7.0  173.466667  34.818262    0.0     0.0   \n",
       "4  11100.0  91488.0  112000.0   3.0  115.116702  34.818262    0.0     0.0   \n",
       "\n",
       "   NINQ    0    1  \n",
       "0   1.0  0.0  1.0  \n",
       "1   0.0  0.0  1.0  \n",
       "2   1.0  0.0  1.0  \n",
       "3   0.5  1.0  0.0  \n",
       "4   0.0  0.0  1.0  "
      ]
     },
     "execution_count": 216,
     "metadata": {},
     "output_type": "execute_result"
    }
   ],
   "source": [
    "america_joined.head()"
   ]
  },
  {
   "cell_type": "code",
   "execution_count": 217,
   "metadata": {},
   "outputs": [],
   "source": [
    "error = []\n",
    "for i in range(1, 40):\n",
    "    knn = KNeighborsClassifier(n_neighbors=i)\n",
    "    knn_model = knn.fit(X_train, y_train)\n",
    "    pred_i = knn_model.predict(X_test)\n",
    "    error.append(np.mean(pred_i != y_test))"
   ]
  },
  {
   "cell_type": "code",
   "execution_count": 218,
   "metadata": {},
   "outputs": [
    {
     "data": {
      "text/plain": [
       "Text(0, 0.5, 'Erreur')"
      ]
     },
     "execution_count": 218,
     "metadata": {},
     "output_type": "execute_result"
    },
    {
     "data": {
      "image/png": "[encoded data removed]",
      "text/plain": [
       "<Figure size 864x432 with 1 Axes>"
      ]
     },
     "metadata": {
      "needs_background": "light"
     },
     "output_type": "display_data"
    }
   ],
   "source": [
    "plt.figure(figsize=(12, 6))\n",
    "plt.plot(range(1, 40), error, color='red', linestyle='dashed', marker='o',\n",
    "         markerfacecolor='blue', markersize=10)\n",
    "plt.title('Taux Erreur pour les differentes valeurs de k')\n",
    "plt.xlabel('K ')\n",
    "plt.ylabel('Erreur')"
   ]
  },
  {
   "cell_type": "code",
   "execution_count": 219,
   "metadata": {},
   "outputs": [
    {
     "name": "stdout",
     "output_type": "stream",
     "text": [
      "0.8295302013422818\n",
      "              precision    recall  f1-score   support\n",
      "\n",
      "           0       0.83      0.98      0.90      1194\n",
      "           1       0.74      0.22      0.34       296\n",
      "\n",
      "    accuracy                           0.83      1490\n",
      "   macro avg       0.79      0.60      0.62      1490\n",
      "weighted avg       0.82      0.83      0.79      1490\n",
      "\n"
     ]
    }
   ],
   "source": [
    "knn = KNeighborsClassifier(n_neighbors=6)\n",
    "knn_model = knn.fit(X_train, y_train)\n",
    "y_pred_knn = knn_model.predict(X_test)\n",
    "print(knn.score(X_test, y_test))\n",
    "print(classification_report(y_test, y_pred_knn))"
   ]
  },
  {
   "cell_type": "markdown",
   "metadata": {},
   "source": [
    "# XGBOOST "
   ]
  },
  {
   "cell_type": "code",
   "execution_count": 220,
   "metadata": {},
   "outputs": [],
   "source": [
    "import xgboost as xgb"
   ]
  },
  {
   "cell_type": "code",
   "execution_count": 41,
   "metadata": {},
   "outputs": [
    {
     "name": "stderr",
     "output_type": "stream",
     "text": [
      "C:\\Users\\USER\\Anaconda3\\lib\\site-packages\\xgboost\\core.py:587: FutureWarning:\n",
      "\n",
      "Series.base is deprecated and will be removed in a future version\n",
      "\n"
     ]
    }
   ],
   "source": [
    "D_train = xgb.DMatrix(X_train, label=y_train)\n",
    "D_test = xgb.DMatrix(X_test, label=y_test)"
   ]
  },
  {
   "cell_type": "code",
   "execution_count": null,
   "metadata": {},
   "outputs": [],
   "source": []
  },
  {
   "cell_type": "code",
   "execution_count": null,
   "metadata": {},
   "outputs": [],
   "source": []
  },
  {
   "cell_type": "markdown",
   "metadata": {},
   "source": [
    "# Do not Touch "
   ]
  },
  {
   "cell_type": "code",
   "execution_count": 94,
   "metadata": {},
   "outputs": [
    {
     "data": {
      "text/plain": [
       "GridSearchCV(cv=3, error_score='raise-deprecating',\n",
       "             estimator=XGBClassifier(base_score=0.5, booster='gbtree',\n",
       "                                     colsample_bylevel=1, colsample_bynode=1,\n",
       "                                     colsample_bytree=1, gamma=0,\n",
       "                                     learning_rate=0.1, max_delta_step=0,\n",
       "                                     max_depth=3, min_child_weight=1,\n",
       "                                     missing=None, n_estimators=100, n_jobs=1,\n",
       "                                     nthread=None, objective='binary:logistic',\n",
       "                                     random_state=0, reg_alpha=0, reg_l...\n",
       "                                     scale_pos_weight=1, seed=None, silent=None,\n",
       "                                     subsample=1, verbosity=1),\n",
       "             iid='warn', n_jobs=4,\n",
       "             param_grid={'colsample_bytree': [0.3, 0.4, 0.5, 0.7],\n",
       "                         'eta': [0.05, 0.1, 0.15, 0.2, 0.25, 0.3],\n",
       "                         'gamma': [0.0, 0.1, 0.2, 0.3, 0.4],\n",
       "                         'max_depth': [3, 4, 5, 6, 8, 10, 12, 15],\n",
       "                         'min_child_weight': [1, 3, 5, 7]},\n",
       "             pre_dispatch='2*n_jobs', refit=True, return_train_score=False,\n",
       "             scoring='neg_log_loss', verbose=0)"
      ]
     },
     "execution_count": 94,
     "metadata": {},
     "output_type": "execute_result"
    }
   ],
   "source": [
    "from sklearn.model_selection import GridSearchCV\n",
    "\n",
    "clf = xgb.XGBClassifier()\n",
    "parameters = {\n",
    "     \"eta\"    : [0.05, 0.10, 0.15, 0.20, 0.25, 0.30 ] ,\n",
    "     \"max_depth\"        : [ 3, 4, 5, 6, 8, 10, 12, 15],\n",
    "     \"min_child_weight\" : [ 1, 3, 5, 7 ],\n",
    "     \"gamma\"            : [ 0.0, 0.1, 0.2 , 0.3, 0.4 ],\n",
    "     \"colsample_bytree\" : [ 0.3, 0.4, 0.5 , 0.7 ]\n",
    "     }\n",
    "\n",
    "grid = GridSearchCV(clf,\n",
    "                    parameters, n_jobs=4,\n",
    "                    scoring=\"neg_log_loss\",\n",
    "                    cv=3)\n",
    "grid.fit(X_train, y_train)"
   ]
  },
  {
   "cell_type": "code",
   "execution_count": 96,
   "metadata": {},
   "outputs": [],
   "source": [
    "yPredGrid = grid.predict(X_test)"
   ]
  },
  {
   "cell_type": "code",
   "execution_count": 97,
   "metadata": {},
   "outputs": [
    {
     "name": "stdout",
     "output_type": "stream",
     "text": [
      "              precision    recall  f1-score   support\n",
      "\n",
      "           0       0.91      0.97      0.94      1194\n",
      "           1       0.83      0.60      0.70       296\n",
      "\n",
      "    accuracy                           0.90      1490\n",
      "   macro avg       0.87      0.79      0.82      1490\n",
      "weighted avg       0.89      0.90      0.89      1490\n",
      "\n"
     ]
    }
   ],
   "source": [
    "print(classification_report(y_test, yPredGrid))"
   ]
  },
  {
   "cell_type": "code",
   "execution_count": 98,
   "metadata": {},
   "outputs": [
    {
     "data": {
      "text/plain": [
       "{'colsample_bytree': 0.5,\n",
       " 'eta': 0.05,\n",
       " 'gamma': 0.1,\n",
       " 'max_depth': 10,\n",
       " 'min_child_weight': 1}"
      ]
     },
     "execution_count": 98,
     "metadata": {},
     "output_type": "execute_result"
    }
   ],
   "source": [
    "grid.best_params_"
   ]
  },
  {
   "cell_type": "code",
   "execution_count": null,
   "metadata": {},
   "outputs": [],
   "source": []
  },
  {
   "cell_type": "code",
   "execution_count": null,
   "metadata": {},
   "outputs": [],
   "source": []
  },
  {
   "cell_type": "markdown",
   "metadata": {},
   "source": [
    "# Continue "
   ]
  },
  {
   "cell_type": "code",
   "execution_count": 221,
   "metadata": {},
   "outputs": [],
   "source": [
    "from sklearn.preprocessing import MinMaxScaler\n",
    "def ScaleMinMax(data_num):\n",
    "    scaler = MinMaxScaler()\n",
    "    data_num_sc = pd.DataFrame(scaler.fit_transform(data_num), columns=data_num.columns)\n",
    "    return data_num_sc\n",
    "    "
   ]
  },
  {
   "cell_type": "code",
   "execution_count": 222,
   "metadata": {},
   "outputs": [],
   "source": [
    "from sklearn.preprocessing import StandardScaler\n",
    "def ScalerStandard(data_num):\n",
    "    scaler = StandardScaler()\n",
    "    data_num_sc = pd.DataFrame(scaler.fit_transform(data_num), columns=data_num.columns)\n",
    "    return data_num_sc\n",
    "    "
   ]
  },
  {
   "cell_type": "code",
   "execution_count": 223,
   "metadata": {},
   "outputs": [],
   "source": [
    "america_numstandard = ScalerStandard(america_num)\n",
    "america_num_minmax = ScaleMinMax(america_num)"
   ]
  },
  {
   "cell_type": "code",
   "execution_count": 224,
   "metadata": {},
   "outputs": [],
   "source": [
    "america_joined_standard = pd.concat([america_numstandard, america_cat], axis=1)\n",
    "america_joined_minmax = pd.concat([america_num_minmax, america_cat], axis=1)"
   ]
  },
  {
   "cell_type": "markdown",
   "metadata": {},
   "source": [
    "### Standard Scaler (Behi)"
   ]
  },
  {
   "cell_type": "code",
   "execution_count": 225,
   "metadata": {},
   "outputs": [],
   "source": [
    "X_train_st, X_test_st, y_train_st, y_test_st = train_test_split(america_joined_standard, target)"
   ]
  },
  {
   "cell_type": "markdown",
   "metadata": {},
   "source": [
    "### KNN with n=6 "
   ]
  },
  {
   "cell_type": "code",
   "execution_count": 226,
   "metadata": {},
   "outputs": [
    {
     "name": "stdout",
     "output_type": "stream",
     "text": [
      "0.8630872483221477\n",
      "              precision    recall  f1-score   support\n",
      "\n",
      "           0       0.86      0.99      0.92      1181\n",
      "           1       0.91      0.38      0.53       309\n",
      "\n",
      "    accuracy                           0.86      1490\n",
      "   macro avg       0.88      0.68      0.73      1490\n",
      "weighted avg       0.87      0.86      0.84      1490\n",
      "\n"
     ]
    }
   ],
   "source": [
    "knn = KNeighborsClassifier(n_neighbors=6)\n",
    "knn_model = knn.fit(X_train_st, y_train_st)\n",
    "y_pred_knn_st = knn_model.predict(X_test_st)\n",
    "print(knn.score(X_test_st, y_test_st))\n",
    "print(classification_report(y_test_st, y_pred_knn_st))"
   ]
  },
  {
   "cell_type": "markdown",
   "metadata": {},
   "source": [
    "{'colsample_bytree': 0.5,\n",
    " 'eta': 0.05,\n",
    " 'gamma': 0.4,\n",
    " 'max_depth': 10,\n",
    " 'min_child_weight': 1}"
   ]
  },
  {
   "cell_type": "markdown",
   "metadata": {},
   "source": [
    "### XGBOOST "
   ]
  },
  {
   "cell_type": "code",
   "execution_count": 227,
   "metadata": {},
   "outputs": [
    {
     "name": "stderr",
     "output_type": "stream",
     "text": [
      "C:\\Users\\USER\\Anaconda3\\lib\\site-packages\\xgboost\\core.py:587: FutureWarning:\n",
      "\n",
      "Series.base is deprecated and will be removed in a future version\n",
      "\n"
     ]
    }
   ],
   "source": [
    "D_train_st = xgb.DMatrix(X_train_st, label=y_train_st)\n",
    "D_test_st = xgb.DMatrix(X_test_st, label=y_test_st)"
   ]
  },
  {
   "cell_type": "code",
   "execution_count": 228,
   "metadata": {},
   "outputs": [
    {
     "data": {
      "text/plain": [
       "GridSearchCV(cv=3, error_score='raise-deprecating',\n",
       "             estimator=XGBClassifier(base_score=0.5, booster='gbtree',\n",
       "                                     colsample_bylevel=1, colsample_bynode=1,\n",
       "                                     colsample_bytree=1, gamma=0,\n",
       "                                     learning_rate=0.1, max_delta_step=0,\n",
       "                                     max_depth=3, min_child_weight=1,\n",
       "                                     missing=None, n_estimators=100, n_jobs=1,\n",
       "                                     nthread=None, objective='binary:logistic',\n",
       "                                     random_state=0, reg_alpha=0, reg_l...\n",
       "                                     scale_pos_weight=1, seed=None, silent=None,\n",
       "                                     subsample=1, verbosity=1),\n",
       "             iid='warn', n_jobs=4,\n",
       "             param_grid={'colsample_bytree': [0.3, 0.4, 0.5, 0.7],\n",
       "                         'eta': [0.05, 0.1, 0.15, 0.2, 0.25, 0.3],\n",
       "                         'gamma': [0.0, 0.1, 0.2, 0.3, 0.4],\n",
       "                         'max_depth': [3, 4, 5, 6, 8, 10, 12, 15],\n",
       "                         'min_child_weight': [1, 3, 5, 7]},\n",
       "             pre_dispatch='2*n_jobs', refit=True, return_train_score=False,\n",
       "             scoring='neg_log_loss', verbose=0)"
      ]
     },
     "execution_count": 228,
     "metadata": {},
     "output_type": "execute_result"
    }
   ],
   "source": [
    "from sklearn.model_selection import GridSearchCV\n",
    "\n",
    "clf = xgb.XGBClassifier()\n",
    "parameters = {\n",
    "     \"eta\"    : [0.05, 0.10, 0.15, 0.20, 0.25, 0.30 ] ,\n",
    "     \"max_depth\"        : [ 3, 4, 5, 6, 8, 10, 12, 15],\n",
    "     \"min_child_weight\" : [ 1, 3, 5, 7 ],\n",
    "     \"gamma\"            : [ 0.0, 0.1, 0.2 , 0.3, 0.4 ],\n",
    "     \"colsample_bytree\" : [ 0.3, 0.4, 0.5 , 0.7 ]\n",
    "     }\n",
    "\n",
    "grid = GridSearchCV(clf,\n",
    "                    parameters, n_jobs=4,\n",
    "                    scoring=\"neg_log_loss\",\n",
    "                    cv=3)\n",
    "grid.fit(X_train_st, y_train_st)"
   ]
  },
  {
   "cell_type": "code",
   "execution_count": 229,
   "metadata": {},
   "outputs": [
    {
     "name": "stdout",
     "output_type": "stream",
     "text": [
      "              precision    recall  f1-score   support\n",
      "\n",
      "           0       0.91      0.97      0.94      1181\n",
      "           1       0.83      0.64      0.72       309\n",
      "\n",
      "    accuracy                           0.90      1490\n",
      "   macro avg       0.87      0.80      0.83      1490\n",
      "weighted avg       0.89      0.90      0.89      1490\n",
      "\n"
     ]
    }
   ],
   "source": [
    "yPredGrid_st = grid.predict(X_test_st)\n",
    "print(classification_report(y_test_st, yPredGrid_st))"
   ]
  },
  {
   "cell_type": "code",
   "execution_count": null,
   "metadata": {},
   "outputs": [],
   "source": []
  },
  {
   "cell_type": "code",
   "execution_count": null,
   "metadata": {},
   "outputs": [],
   "source": []
  },
  {
   "cell_type": "markdown",
   "metadata": {},
   "source": [
    "### MinMax Scaler (5ayeb)"
   ]
  },
  {
   "cell_type": "markdown",
   "metadata": {},
   "source": [
    "### KNN n=3 "
   ]
  },
  {
   "cell_type": "markdown",
   "metadata": {},
   "source": [
    "### X_train_mm, X_test_mm, y_train_mm, y_test_mm = train_test_split(america_joined_minmax, target)"
   ]
  },
  {
   "cell_type": "markdown",
   "metadata": {},
   "source": [
    "### knn = KNeighborsClassifier(n_neighbors=6)\n",
    "knn_model = knn.fit(X_train_mm, y_train_mm)\n",
    "y_pred_knn_mm = knn_model.predict(X_test_mm)\n",
    "print(knn.score(X_test_mm, y_test_mm))\n",
    "print(classification_report(y_test_mm, y_pred_knn_mm))"
   ]
  },
  {
   "cell_type": "markdown",
   "metadata": {},
   "source": [
    "### XGBOOST "
   ]
  },
  {
   "cell_type": "markdown",
   "metadata": {},
   "source": [
    "### D_train_mm = xgb.DMatrix(X_train_mm, label=y_train_mm)\n",
    "D_test_mm = xgb.DMatrix(X_test_mm, label=y_test_mm)"
   ]
  },
  {
   "cell_type": "markdown",
   "metadata": {},
   "source": [
    "### from sklearn.model_selection import GridSearchCV\n",
    "\n",
    "clf = xgb.XGBClassifier()\n",
    "parameters = {\n",
    "     \"eta\"    : [0.05, 0.10, 0.15, 0.20, 0.25, 0.30 ] ,\n",
    "     \"max_depth\"        : [ 3, 4, 5, 6, 8, 10, 12, 15],\n",
    "     \"min_child_weight\" : [ 1, 3, 5, 7 ],\n",
    "     \"gamma\"            : [ 0.0, 0.1, 0.2 , 0.3, 0.4 ],\n",
    "     \"colsample_bytree\" : [ 0.3, 0.4, 0.5 , 0.7 ]\n",
    "     }\n",
    "\n",
    "grid = GridSearchCV(clf,\n",
    "                    parameters, n_jobs=4,\n",
    "                    scoring=\"neg_log_loss\",\n",
    "                    cv=3)\n",
    "grid.fit(X_train_mm, y_train_mm)"
   ]
  },
  {
   "cell_type": "markdown",
   "metadata": {},
   "source": [
    "### Random Forest Classifier "
   ]
  },
  {
   "cell_type": "code",
   "execution_count": 230,
   "metadata": {},
   "outputs": [],
   "source": [
    "from sklearn.ensemble import RandomForestClassifier\n",
    "from sklearn.model_selection import GridSearchCV"
   ]
  },
  {
   "cell_type": "code",
   "execution_count": 231,
   "metadata": {},
   "outputs": [],
   "source": [
    "rfc=RandomForestClassifier()"
   ]
  },
  {
   "cell_type": "code",
   "execution_count": 232,
   "metadata": {},
   "outputs": [
    {
     "data": {
      "text/plain": [
       "RandomForestClassifier(bootstrap=True, class_weight=None, criterion='gini',\n",
       "                       max_depth=None, max_features='auto', max_leaf_nodes=None,\n",
       "                       min_impurity_decrease=0.0, min_impurity_split=None,\n",
       "                       min_samples_leaf=1, min_samples_split=2,\n",
       "                       min_weight_fraction_leaf=0.0, n_estimators='warn',\n",
       "                       n_jobs=None, oob_score=False, random_state=None,\n",
       "                       verbose=0, warm_start=False)"
      ]
     },
     "execution_count": 232,
     "metadata": {},
     "output_type": "execute_result"
    }
   ],
   "source": [
    "rfc"
   ]
  },
  {
   "cell_type": "code",
   "execution_count": 238,
   "metadata": {},
   "outputs": [],
   "source": [
    "param_grid_RF = { \n",
    "    'n_estimators': [200, 500],\n",
    "    'max_features': ['auto', 'sqrt', 'log2'],\n",
    "    'max_depth' : [ 3, 4, 5, 6, 8, 10, 12, 15],\n",
    "    'criterion' :['gini', 'entropy'],\n",
    "    'min_samples_leaf' : [1, 2, 4],\n",
    "    'min_samples_split' : [2, 5, 10]\n",
    "}"
   ]
  },
  {
   "cell_type": "code",
   "execution_count": 239,
   "metadata": {},
   "outputs": [],
   "source": [
    "CV_rfc = GridSearchCV(estimator=rfc, param_grid=param_grid_RF, cv= 3)"
   ]
  },
  {
   "cell_type": "code",
   "execution_count": 240,
   "metadata": {},
   "outputs": [
    {
     "data": {
      "text/plain": [
       "GridSearchCV(cv=3, error_score='raise-deprecating',\n",
       "             estimator=RandomForestClassifier(bootstrap=True, class_weight=None,\n",
       "                                              criterion='gini', max_depth=None,\n",
       "                                              max_features='auto',\n",
       "                                              max_leaf_nodes=None,\n",
       "                                              min_impurity_decrease=0.0,\n",
       "                                              min_impurity_split=None,\n",
       "                                              min_samples_leaf=1,\n",
       "                                              min_samples_split=2,\n",
       "                                              min_weight_fraction_leaf=0.0,\n",
       "                                              n_estimators='warn', n_jobs=None,\n",
       "                                              oob_score=False,\n",
       "                                              random_state=None, verbose=0,\n",
       "                                              warm_start=False),\n",
       "             iid='warn', n_jobs=None,\n",
       "             param_grid={'criterion': ['gini', 'entropy'],\n",
       "                         'max_depth': [3, 4, 5, 6, 8, 10, 12, 15],\n",
       "                         'max_features': ['auto', 'sqrt', 'log2'],\n",
       "                         'min_samples_leaf': [1, 2, 4],\n",
       "                         'min_samples_split': [2, 5, 10],\n",
       "                         'n_estimators': [200, 500]},\n",
       "             pre_dispatch='2*n_jobs', refit=True, return_train_score=False,\n",
       "             scoring=None, verbose=0)"
      ]
     },
     "execution_count": 240,
     "metadata": {},
     "output_type": "execute_result"
    }
   ],
   "source": [
    "CV_rfc.fit(X_train_st, y_train_st)"
   ]
  },
  {
   "cell_type": "code",
   "execution_count": 242,
   "metadata": {},
   "outputs": [
    {
     "name": "stdout",
     "output_type": "stream",
     "text": [
      "              precision    recall  f1-score   support\n",
      "\n",
      "           0       0.90      0.98      0.94      1181\n",
      "           1       0.87      0.59      0.70       309\n",
      "\n",
      "    accuracy                           0.90      1490\n",
      "   macro avg       0.89      0.78      0.82      1490\n",
      "weighted avg       0.89      0.90      0.89      1490\n",
      "\n"
     ]
    }
   ],
   "source": [
    "yPredGridRF_st = CV_rfc.predict(X_test_st)\n",
    "print(classification_report(y_test_st, yPredGridRF_st))"
   ]
  },
  {
   "cell_type": "code",
   "execution_count": 243,
   "metadata": {},
   "outputs": [
    {
     "data": {
      "text/plain": [
       "{'criterion': 'gini',\n",
       " 'max_depth': 10,\n",
       " 'max_features': 'sqrt',\n",
       " 'min_samples_leaf': 1,\n",
       " 'min_samples_split': 5,\n",
       " 'n_estimators': 500}"
      ]
     },
     "execution_count": 243,
     "metadata": {},
     "output_type": "execute_result"
    }
   ],
   "source": [
    "CV_rfc.best_params_"
   ]
  },
  {
   "cell_type": "code",
   "execution_count": null,
   "metadata": {},
   "outputs": [],
   "source": []
  },
  {
   "cell_type": "code",
   "execution_count": null,
   "metadata": {},
   "outputs": [],
   "source": []
  },
  {
   "cell_type": "code",
   "execution_count": null,
   "metadata": {},
   "outputs": [],
   "source": []
  },
  {
   "cell_type": "code",
   "execution_count": null,
   "metadata": {},
   "outputs": [],
   "source": []
  },
  {
   "cell_type": "code",
   "execution_count": null,
   "metadata": {},
   "outputs": [],
   "source": []
  },
  {
   "cell_type": "code",
   "execution_count": null,
   "metadata": {},
   "outputs": [],
   "source": []
  },
  {
   "cell_type": "code",
   "execution_count": null,
   "metadata": {},
   "outputs": [],
   "source": []
  },
  {
   "cell_type": "code",
   "execution_count": null,
   "metadata": {},
   "outputs": [],
   "source": []
  }
 ],
 "metadata": {
  "kernelspec": {
   "display_name": "Python 3",
   "language": "python",
   "name": "python3"
  },
  "language_info": {
   "codemirror_mode": {
    "name": "ipython",
    "version": 3
   },
   "file_extension": ".py",
   "mimetype": "text/x-python",
   "name": "python",
   "nbconvert_exporter": "python",
   "pygments_lexer": "ipython3",
   "version": "3.7.3"
  }
 },
 "nbformat": 4,
 "nbformat_minor": 4
}
