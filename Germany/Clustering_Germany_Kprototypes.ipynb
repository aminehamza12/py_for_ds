{
 "cells": [
  {
   "cell_type": "code",
   "execution_count": 41,
   "metadata": {},
   "outputs": [
    {
     "data": {
      "text/html": [
       "        <script type=\"text/javascript\">\n",
       "        window.PlotlyConfig = {MathJaxConfig: 'local'};\n",
       "        if (window.MathJax) {MathJax.Hub.Config({SVG: {font: \"STIX-Web\"}});}\n",
       "        if (typeof require !== 'undefined') {\n",
       "        require.undef(\"plotly\");\n",
       "        requirejs.config({\n",
       "            paths: {\n",
       "                'plotly': ['https://cdn.plot.ly/plotly-latest.min']\n",
       "            }\n",
       "        });\n",
       "        require(['plotly'], function(Plotly) {\n",
       "            window._Plotly = Plotly;\n",
       "        });\n",
       "        }\n",
       "        </script>\n",
       "        "
      ]
     },
     "metadata": {},
     "output_type": "display_data"
    },
    {
     "name": "stderr",
     "output_type": "stream",
     "text": [
      "C:\\Users\\USER\\Anaconda3\\lib\\site-packages\\ipykernel_launcher.py:23: FutureWarning:\n",
      "\n",
      "read_table is deprecated, use read_csv instead.\n",
      "\n"
     ]
    }
   ],
   "source": [
    "import pandas as pd\n",
    "import numpy as np\n",
    "from sklearn.cluster import KMeans\n",
    "from sklearn.decomposition import PCA\n",
    "from sklearn.metrics import adjusted_rand_score\n",
    "from sklearn import metrics\n",
    "\n",
    "from sklearn.decomposition import PCA, KernelPCA\n",
    "from sklearn.datasets import make_circles\n",
    "from sklearn.metrics import adjusted_rand_score\n",
    "\n",
    "import plotly.offline as py \n",
    "py.init_notebook_mode(connected=True) # this code, allow us to work with offline plotly version\n",
    "import plotly.graph_objs as go # it's like \"plt\" of matplot\n",
    "import plotly.tools as tls # It's useful to we get some tools of plotly\n",
    "import warnings # This library will be used to ignore some warnings\n",
    "from collections import Counter # To do counter of some features\n",
    "import matplotlib.pyplot as plt\n",
    "import seaborn as sns\n",
    "%matplotlib inline\n",
    "\n",
    "\n",
    "german = pd.read_table(\"german.data\", delimiter=' ', header=None)\n",
    "german.columns = ['Status_Account', 'Duration', 'Credit_History', 'Purpose', 'Credit_Amount',\n",
    "                     'Saving_Account', 'Present', 'Installment', 'Personal_Status', 'Other', \n",
    "                         'Residence', 'Property', 'Age', 'Other_Installment', 'Housing', 'Existing_Credits',\n",
    "                             'Job', 'Liable_People', 'Tel', 'Foreign_Worker', 'Actual_Score']\n",
    "germanOrigin = german\n",
    "target = german.iloc[:,-1]   # Enregistrer la varialbe target\n",
    "# goodGerman = german[german['Actual_Score']==1]\n",
    "# badGerman = german[german['Actual_Score']==2]\n",
    "# german = german.iloc[:,0:-1]; # Enleveer la colonne target\n",
    "# german = german.drop(columns=\"Tel\") # Enlever la colonne tel\n"
   ]
  },
  {
   "cell_type": "code",
   "execution_count": 4,
   "metadata": {},
   "outputs": [],
   "source": [
    "def replaceModalitites(data, racine, cible):\n",
    "    return data.replace(to_replace=racine, value=cible)"
   ]
  },
  {
   "cell_type": "code",
   "execution_count": 42,
   "metadata": {},
   "outputs": [],
   "source": [
    "# STATUS ACCOUNT\n",
    "germanV2 = replaceModalitites(germanOrigin,[\"A11\",\"A12\",\"A14\"],[\"A11\",\"A11\",\"A11\"])\n",
    "\n",
    "# PURPOSE\n",
    "germanV2 = replaceModalitites(germanV2,\n",
    "                              ['A46', 'A42', 'A40', 'A41', 'A49', 'A45', 'A410','A48'],\n",
    "                              ['A41', 'A41', 'A41', 'A41', 'A41', 'A41', 'A41','A41'])\n",
    "\n",
    "#SAVING ACCOUNT\n",
    "germanV2 = replaceModalitites(germanV2,\n",
    "                              ['A63','A62'],\n",
    "                              ['A62', 'A62'])\n",
    "germanV2 = replaceModalitites(germanV2,\n",
    "                              ['A61','A64','A65'],\n",
    "                              ['A61', 'A61', 'A61'])\n",
    "\n",
    "# PRESENT\n",
    "germanV2 = replaceModalitites(germanV2,\n",
    "                              ['A75', 'A73', 'A74', 'A72'],\n",
    "                              ['A72', 'A72', 'A72', 'A72'])\n",
    "\n",
    "#PERSONAL STATUS\n",
    "germanV2 = replaceModalitites(germanV2,\n",
    "                              ['A93', 'A92', 'A91'],\n",
    "                              ['A91', 'A91', 'A91'])\n",
    "\n",
    "# PROPERTY\n",
    "germanV2 = replaceModalitites(germanV2,\n",
    "                              ['A122', 'A124', 'A123'],\n",
    "                              ['A122', 'A122', 'A122'])\n",
    "\n",
    "# JOB\n",
    "germanV2 = replaceModalitites(germanV2,\n",
    "                              ['A173', 'A172'],\n",
    "                              ['A172', 'A172'])\n",
    "\n",
    "# INSTALLMENT"
   ]
  },
  {
   "cell_type": "code",
   "execution_count": null,
   "metadata": {},
   "outputs": [],
   "source": [
    "germanV2 = germanOrigin"
   ]
  },
  {
   "cell_type": "code",
   "execution_count": 43,
   "metadata": {},
   "outputs": [],
   "source": [
    "germanV3 = germanV2.drop([\"Personal_Status\",\"Purpose\",\"Job\",\"Housing\",\"Other\",\"Tel\", \"Actual_Score\"], axis=1)"
   ]
  },
  {
   "cell_type": "code",
   "execution_count": null,
   "metadata": {},
   "outputs": [],
   "source": [
    "germanV3 = germanV2.drop([\"Tel\", \"Actual_Score\"], axis=1)"
   ]
  },
  {
   "cell_type": "code",
   "execution_count": 11,
   "metadata": {},
   "outputs": [],
   "source": [
    "def QualiQuantiDecomposition(data):\n",
    "    data_cat = data.select_dtypes(include=['object'])\n",
    "    data_num = data._get_numeric_data()\n",
    "    data_num.drop('Duration', axis=1, inplace= True)\n",
    "\n",
    "    for col in data_cat:\n",
    "        onehot = pd.get_dummies(data_cat[col])\n",
    "        data_cat = data_cat.drop(col,axis = 1)\n",
    "        data_cat = data_cat.join(onehot)\n",
    "        \n",
    "        \n",
    "    cols = []\n",
    "    qmn = data_num['Credit_Amount'].quantile(q=0.25)\n",
    "    qmx = data_num['Credit_Amount'].quantile(q=0.75)\n",
    "    data_num['Credit_Amount'] = data_num['Credit_Amount'].apply(lambda x : qmn if x < qmn else (qmx if x > qmx else x))\n",
    "        \n",
    "    return data_num, data_cat\n",
    "    "
   ]
  },
  {
   "cell_type": "code",
   "execution_count": 44,
   "metadata": {},
   "outputs": [],
   "source": [
    "german_num, german_cat = QualiQuantiDecomposition(germanV3)"
   ]
  },
  {
   "cell_type": "code",
   "execution_count": 6,
   "metadata": {},
   "outputs": [],
   "source": [
    "from sklearn.preprocessing import MinMaxScaler\n",
    "def ScaleMinMax(data_num):\n",
    "    scaler = MinMaxScaler()\n",
    "    data_num_sc = pd.DataFrame(scaler.fit_transform(data_num), columns=data_num.columns)\n",
    "    return data_num_sc\n",
    "    "
   ]
  },
  {
   "cell_type": "code",
   "execution_count": 7,
   "metadata": {},
   "outputs": [],
   "source": [
    "from sklearn.preprocessing import StandardScaler\n",
    "def ScalerStandard(data_num):\n",
    "    scaler = StandardScaler()\n",
    "    data_num_sc = pd.DataFrame(scaler.fit_transform(data_num), columns=data_num.columns)\n",
    "    return data_num_sc\n",
    "    "
   ]
  },
  {
   "cell_type": "code",
   "execution_count": null,
   "metadata": {},
   "outputs": [],
   "source": []
  },
  {
   "cell_type": "code",
   "execution_count": 16,
   "metadata": {},
   "outputs": [],
   "source": [
    "from kmodes.kprototypes import KPrototypes"
   ]
  },
  {
   "cell_type": "code",
   "execution_count": 17,
   "metadata": {},
   "outputs": [],
   "source": [
    "kp = KPrototypes(n_clusters=2)"
   ]
  },
  {
   "cell_type": "code",
   "execution_count": 20,
   "metadata": {},
   "outputs": [
    {
     "data": {
      "text/html": [
       "<div>\n",
       "<style scoped>\n",
       "    .dataframe tbody tr th:only-of-type {\n",
       "        vertical-align: middle;\n",
       "    }\n",
       "\n",
       "    .dataframe tbody tr th {\n",
       "        vertical-align: top;\n",
       "    }\n",
       "\n",
       "    .dataframe thead th {\n",
       "        text-align: right;\n",
       "    }\n",
       "</style>\n",
       "<table border=\"1\" class=\"dataframe\">\n",
       "  <thead>\n",
       "    <tr style=\"text-align: right;\">\n",
       "      <th></th>\n",
       "      <th>Status_Account</th>\n",
       "      <th>Duration</th>\n",
       "      <th>Purpose</th>\n",
       "      <th>Credit_Amount</th>\n",
       "      <th>Saving_Account</th>\n",
       "      <th>Present</th>\n",
       "      <th>Installment</th>\n",
       "      <th>Personal_Status</th>\n",
       "      <th>Other</th>\n",
       "      <th>Residence</th>\n",
       "      <th>Property</th>\n",
       "      <th>Age</th>\n",
       "      <th>Job</th>\n",
       "      <th>Foreign_Worker</th>\n",
       "    </tr>\n",
       "  </thead>\n",
       "  <tbody>\n",
       "    <tr>\n",
       "      <th>0</th>\n",
       "      <td>A11</td>\n",
       "      <td>6</td>\n",
       "      <td>A43</td>\n",
       "      <td>1169</td>\n",
       "      <td>A61</td>\n",
       "      <td>A72</td>\n",
       "      <td>4</td>\n",
       "      <td>A91</td>\n",
       "      <td>A101</td>\n",
       "      <td>4</td>\n",
       "      <td>A121</td>\n",
       "      <td>67</td>\n",
       "      <td>A172</td>\n",
       "      <td>A201</td>\n",
       "    </tr>\n",
       "    <tr>\n",
       "      <th>1</th>\n",
       "      <td>A11</td>\n",
       "      <td>48</td>\n",
       "      <td>A43</td>\n",
       "      <td>5951</td>\n",
       "      <td>A61</td>\n",
       "      <td>A72</td>\n",
       "      <td>2</td>\n",
       "      <td>A91</td>\n",
       "      <td>A101</td>\n",
       "      <td>2</td>\n",
       "      <td>A121</td>\n",
       "      <td>22</td>\n",
       "      <td>A172</td>\n",
       "      <td>A201</td>\n",
       "    </tr>\n",
       "    <tr>\n",
       "      <th>2</th>\n",
       "      <td>A11</td>\n",
       "      <td>12</td>\n",
       "      <td>A41</td>\n",
       "      <td>2096</td>\n",
       "      <td>A61</td>\n",
       "      <td>A72</td>\n",
       "      <td>2</td>\n",
       "      <td>A91</td>\n",
       "      <td>A101</td>\n",
       "      <td>3</td>\n",
       "      <td>A121</td>\n",
       "      <td>49</td>\n",
       "      <td>A172</td>\n",
       "      <td>A201</td>\n",
       "    </tr>\n",
       "    <tr>\n",
       "      <th>3</th>\n",
       "      <td>A11</td>\n",
       "      <td>42</td>\n",
       "      <td>A41</td>\n",
       "      <td>7882</td>\n",
       "      <td>A61</td>\n",
       "      <td>A72</td>\n",
       "      <td>2</td>\n",
       "      <td>A91</td>\n",
       "      <td>A103</td>\n",
       "      <td>4</td>\n",
       "      <td>A122</td>\n",
       "      <td>45</td>\n",
       "      <td>A172</td>\n",
       "      <td>A201</td>\n",
       "    </tr>\n",
       "    <tr>\n",
       "      <th>4</th>\n",
       "      <td>A11</td>\n",
       "      <td>24</td>\n",
       "      <td>A41</td>\n",
       "      <td>4870</td>\n",
       "      <td>A61</td>\n",
       "      <td>A72</td>\n",
       "      <td>3</td>\n",
       "      <td>A91</td>\n",
       "      <td>A101</td>\n",
       "      <td>4</td>\n",
       "      <td>A122</td>\n",
       "      <td>53</td>\n",
       "      <td>A172</td>\n",
       "      <td>A201</td>\n",
       "    </tr>\n",
       "  </tbody>\n",
       "</table>\n",
       "</div>"
      ],
      "text/plain": [
       "  Status_Account  Duration Purpose  Credit_Amount Saving_Account Present  \\\n",
       "0            A11         6     A43           1169            A61     A72   \n",
       "1            A11        48     A43           5951            A61     A72   \n",
       "2            A11        12     A41           2096            A61     A72   \n",
       "3            A11        42     A41           7882            A61     A72   \n",
       "4            A11        24     A41           4870            A61     A72   \n",
       "\n",
       "   Installment Personal_Status Other  Residence Property  Age   Job  \\\n",
       "0            4             A91  A101          4     A121   67  A172   \n",
       "1            2             A91  A101          2     A121   22  A172   \n",
       "2            2             A91  A101          3     A121   49  A172   \n",
       "3            2             A91  A103          4     A122   45  A172   \n",
       "4            3             A91  A101          4     A122   53  A172   \n",
       "\n",
       "  Foreign_Worker  \n",
       "0           A201  \n",
       "1           A201  \n",
       "2           A201  \n",
       "3           A201  \n",
       "4           A201  "
      ]
     },
     "execution_count": 20,
     "metadata": {},
     "output_type": "execute_result"
    }
   ],
   "source": [
    "germanV3.head()"
   ]
  },
  {
   "cell_type": "code",
   "execution_count": 22,
   "metadata": {},
   "outputs": [
    {
     "data": {
      "text/plain": [
       "KPrototypes(cat_dissim=<function matching_dissim at 0x000001C3FEF5D1E0>,\n",
       "            gamma=1116.981357363962, init='Huang', max_iter=100, n_clusters=2,\n",
       "            n_init=10, n_jobs=1,\n",
       "            num_dissim=<function euclidean_dissim at 0x000001C3FEF5D158>,\n",
       "            random_state=None, verbose=0)"
      ]
     },
     "execution_count": 22,
     "metadata": {},
     "output_type": "execute_result"
    }
   ],
   "source": [
    "kp.fit(germanV3, categorical=[0,2,4,5,6,7,8,9,10,12,13])"
   ]
  },
  {
   "cell_type": "code",
   "execution_count": 23,
   "metadata": {},
   "outputs": [
    {
     "data": {
      "text/html": [
       "<div>\n",
       "<style scoped>\n",
       "    .dataframe tbody tr th:only-of-type {\n",
       "        vertical-align: middle;\n",
       "    }\n",
       "\n",
       "    .dataframe tbody tr th {\n",
       "        vertical-align: top;\n",
       "    }\n",
       "\n",
       "    .dataframe thead th {\n",
       "        text-align: right;\n",
       "    }\n",
       "</style>\n",
       "<table border=\"1\" class=\"dataframe\">\n",
       "  <thead>\n",
       "    <tr style=\"text-align: right;\">\n",
       "      <th>col_0</th>\n",
       "      <th>0</th>\n",
       "      <th>1</th>\n",
       "    </tr>\n",
       "    <tr>\n",
       "      <th>Actual_Score</th>\n",
       "      <th></th>\n",
       "      <th></th>\n",
       "    </tr>\n",
       "  </thead>\n",
       "  <tbody>\n",
       "    <tr>\n",
       "      <th>1</th>\n",
       "      <td>599</td>\n",
       "      <td>101</td>\n",
       "    </tr>\n",
       "    <tr>\n",
       "      <th>2</th>\n",
       "      <td>228</td>\n",
       "      <td>72</td>\n",
       "    </tr>\n",
       "  </tbody>\n",
       "</table>\n",
       "</div>"
      ],
      "text/plain": [
       "col_0           0    1\n",
       "Actual_Score          \n",
       "1             599  101\n",
       "2             228   72"
      ]
     },
     "execution_count": 23,
     "metadata": {},
     "output_type": "execute_result"
    }
   ],
   "source": [
    "pd.crosstab(target,kp.labels_)"
   ]
  },
  {
   "cell_type": "markdown",
   "metadata": {},
   "source": [
    "### Decomposition\n"
   ]
  },
  {
   "cell_type": "code",
   "execution_count": 45,
   "metadata": {},
   "outputs": [],
   "source": [
    "german_num, german_cat = QualiQuantiDecomposition(germanV3)"
   ]
  },
  {
   "cell_type": "markdown",
   "metadata": {},
   "source": [
    "### MINMAX "
   ]
  },
  {
   "cell_type": "code",
   "execution_count": 46,
   "metadata": {},
   "outputs": [],
   "source": [
    "data_num_sc = ScaleMinMax(german_num)\n",
    "\n",
    "data = [data_num_sc,german_cat]\n",
    "germanV4 = pd.concat(data,axis=1)"
   ]
  },
  {
   "cell_type": "code",
   "execution_count": 48,
   "metadata": {},
   "outputs": [
    {
     "data": {
      "text/html": [
       "<div>\n",
       "<style scoped>\n",
       "    .dataframe tbody tr th:only-of-type {\n",
       "        vertical-align: middle;\n",
       "    }\n",
       "\n",
       "    .dataframe tbody tr th {\n",
       "        vertical-align: top;\n",
       "    }\n",
       "\n",
       "    .dataframe thead th {\n",
       "        text-align: right;\n",
       "    }\n",
       "</style>\n",
       "<table border=\"1\" class=\"dataframe\">\n",
       "  <thead>\n",
       "    <tr style=\"text-align: right;\">\n",
       "      <th></th>\n",
       "      <th>Credit_Amount</th>\n",
       "      <th>Installment</th>\n",
       "      <th>Residence</th>\n",
       "      <th>Age</th>\n",
       "      <th>Existing_Credits</th>\n",
       "      <th>Liable_People</th>\n",
       "      <th>A11</th>\n",
       "      <th>A13</th>\n",
       "      <th>A30</th>\n",
       "      <th>A31</th>\n",
       "      <th>...</th>\n",
       "      <th>A62</th>\n",
       "      <th>A71</th>\n",
       "      <th>A72</th>\n",
       "      <th>A121</th>\n",
       "      <th>A122</th>\n",
       "      <th>A141</th>\n",
       "      <th>A142</th>\n",
       "      <th>A143</th>\n",
       "      <th>A201</th>\n",
       "      <th>A202</th>\n",
       "    </tr>\n",
       "  </thead>\n",
       "  <tbody>\n",
       "    <tr>\n",
       "      <th>0</th>\n",
       "      <td>0.000000</td>\n",
       "      <td>1.000000</td>\n",
       "      <td>1.000000</td>\n",
       "      <td>0.857143</td>\n",
       "      <td>0.333333</td>\n",
       "      <td>0.0</td>\n",
       "      <td>1</td>\n",
       "      <td>0</td>\n",
       "      <td>0</td>\n",
       "      <td>0</td>\n",
       "      <td>...</td>\n",
       "      <td>0</td>\n",
       "      <td>0</td>\n",
       "      <td>1</td>\n",
       "      <td>1</td>\n",
       "      <td>0</td>\n",
       "      <td>0</td>\n",
       "      <td>0</td>\n",
       "      <td>1</td>\n",
       "      <td>1</td>\n",
       "      <td>0</td>\n",
       "    </tr>\n",
       "    <tr>\n",
       "      <th>1</th>\n",
       "      <td>1.000000</td>\n",
       "      <td>0.333333</td>\n",
       "      <td>0.333333</td>\n",
       "      <td>0.053571</td>\n",
       "      <td>0.000000</td>\n",
       "      <td>0.0</td>\n",
       "      <td>1</td>\n",
       "      <td>0</td>\n",
       "      <td>0</td>\n",
       "      <td>0</td>\n",
       "      <td>...</td>\n",
       "      <td>0</td>\n",
       "      <td>0</td>\n",
       "      <td>1</td>\n",
       "      <td>1</td>\n",
       "      <td>0</td>\n",
       "      <td>0</td>\n",
       "      <td>0</td>\n",
       "      <td>1</td>\n",
       "      <td>1</td>\n",
       "      <td>0</td>\n",
       "    </tr>\n",
       "    <tr>\n",
       "      <th>2</th>\n",
       "      <td>0.280234</td>\n",
       "      <td>0.333333</td>\n",
       "      <td>0.666667</td>\n",
       "      <td>0.535714</td>\n",
       "      <td>0.000000</td>\n",
       "      <td>1.0</td>\n",
       "      <td>1</td>\n",
       "      <td>0</td>\n",
       "      <td>0</td>\n",
       "      <td>0</td>\n",
       "      <td>...</td>\n",
       "      <td>0</td>\n",
       "      <td>0</td>\n",
       "      <td>1</td>\n",
       "      <td>1</td>\n",
       "      <td>0</td>\n",
       "      <td>0</td>\n",
       "      <td>0</td>\n",
       "      <td>1</td>\n",
       "      <td>1</td>\n",
       "      <td>0</td>\n",
       "    </tr>\n",
       "    <tr>\n",
       "      <th>3</th>\n",
       "      <td>1.000000</td>\n",
       "      <td>0.333333</td>\n",
       "      <td>1.000000</td>\n",
       "      <td>0.464286</td>\n",
       "      <td>0.000000</td>\n",
       "      <td>1.0</td>\n",
       "      <td>1</td>\n",
       "      <td>0</td>\n",
       "      <td>0</td>\n",
       "      <td>0</td>\n",
       "      <td>...</td>\n",
       "      <td>0</td>\n",
       "      <td>0</td>\n",
       "      <td>1</td>\n",
       "      <td>0</td>\n",
       "      <td>1</td>\n",
       "      <td>0</td>\n",
       "      <td>0</td>\n",
       "      <td>1</td>\n",
       "      <td>1</td>\n",
       "      <td>0</td>\n",
       "    </tr>\n",
       "    <tr>\n",
       "      <th>4</th>\n",
       "      <td>1.000000</td>\n",
       "      <td>0.666667</td>\n",
       "      <td>1.000000</td>\n",
       "      <td>0.607143</td>\n",
       "      <td>0.333333</td>\n",
       "      <td>1.0</td>\n",
       "      <td>1</td>\n",
       "      <td>0</td>\n",
       "      <td>0</td>\n",
       "      <td>0</td>\n",
       "      <td>...</td>\n",
       "      <td>0</td>\n",
       "      <td>0</td>\n",
       "      <td>1</td>\n",
       "      <td>0</td>\n",
       "      <td>1</td>\n",
       "      <td>0</td>\n",
       "      <td>0</td>\n",
       "      <td>1</td>\n",
       "      <td>1</td>\n",
       "      <td>0</td>\n",
       "    </tr>\n",
       "  </tbody>\n",
       "</table>\n",
       "<p>5 rows × 24 columns</p>\n",
       "</div>"
      ],
      "text/plain": [
       "   Credit_Amount  Installment  Residence       Age  Existing_Credits  \\\n",
       "0       0.000000     1.000000   1.000000  0.857143          0.333333   \n",
       "1       1.000000     0.333333   0.333333  0.053571          0.000000   \n",
       "2       0.280234     0.333333   0.666667  0.535714          0.000000   \n",
       "3       1.000000     0.333333   1.000000  0.464286          0.000000   \n",
       "4       1.000000     0.666667   1.000000  0.607143          0.333333   \n",
       "\n",
       "   Liable_People  A11  A13  A30  A31  ...  A62  A71  A72  A121  A122  A141  \\\n",
       "0            0.0    1    0    0    0  ...    0    0    1     1     0     0   \n",
       "1            0.0    1    0    0    0  ...    0    0    1     1     0     0   \n",
       "2            1.0    1    0    0    0  ...    0    0    1     1     0     0   \n",
       "3            1.0    1    0    0    0  ...    0    0    1     0     1     0   \n",
       "4            1.0    1    0    0    0  ...    0    0    1     0     1     0   \n",
       "\n",
       "   A142  A143  A201  A202  \n",
       "0     0     1     1     0  \n",
       "1     0     1     1     0  \n",
       "2     0     1     1     0  \n",
       "3     0     1     1     0  \n",
       "4     0     1     1     0  \n",
       "\n",
       "[5 rows x 24 columns]"
      ]
     },
     "execution_count": 48,
     "metadata": {},
     "output_type": "execute_result"
    }
   ],
   "source": [
    "germanV4.head()"
   ]
  },
  {
   "cell_type": "code",
   "execution_count": 49,
   "metadata": {},
   "outputs": [
    {
     "data": {
      "text/plain": [
       "KPrototypes(cat_dissim=<function matching_dissim at 0x000001C3FEF5D1E0>,\n",
       "            gamma=1116.981357363962, init='Huang', max_iter=100, n_clusters=2,\n",
       "            n_init=10, n_jobs=1,\n",
       "            num_dissim=<function euclidean_dissim at 0x000001C3FEF5D158>,\n",
       "            random_state=None, verbose=0)"
      ]
     },
     "execution_count": 49,
     "metadata": {},
     "output_type": "execute_result"
    }
   ],
   "source": [
    "kp.fit(germanV4, categorical=list(range(5,24)))"
   ]
  },
  {
   "cell_type": "code",
   "execution_count": 50,
   "metadata": {},
   "outputs": [
    {
     "data": {
      "text/html": [
       "<div>\n",
       "<style scoped>\n",
       "    .dataframe tbody tr th:only-of-type {\n",
       "        vertical-align: middle;\n",
       "    }\n",
       "\n",
       "    .dataframe tbody tr th {\n",
       "        vertical-align: top;\n",
       "    }\n",
       "\n",
       "    .dataframe thead th {\n",
       "        text-align: right;\n",
       "    }\n",
       "</style>\n",
       "<table border=\"1\" class=\"dataframe\">\n",
       "  <thead>\n",
       "    <tr style=\"text-align: right;\">\n",
       "      <th>col_0</th>\n",
       "      <th>0</th>\n",
       "      <th>1</th>\n",
       "    </tr>\n",
       "    <tr>\n",
       "      <th>Actual_Score</th>\n",
       "      <th></th>\n",
       "      <th></th>\n",
       "    </tr>\n",
       "  </thead>\n",
       "  <tbody>\n",
       "    <tr>\n",
       "      <th>1</th>\n",
       "      <td>407</td>\n",
       "      <td>293</td>\n",
       "    </tr>\n",
       "    <tr>\n",
       "      <th>2</th>\n",
       "      <td>200</td>\n",
       "      <td>100</td>\n",
       "    </tr>\n",
       "  </tbody>\n",
       "</table>\n",
       "</div>"
      ],
      "text/plain": [
       "col_0           0    1\n",
       "Actual_Score          \n",
       "1             407  293\n",
       "2             200  100"
      ]
     },
     "execution_count": 50,
     "metadata": {},
     "output_type": "execute_result"
    }
   ],
   "source": [
    "pd.crosstab(target,kp.labels_)"
   ]
  },
  {
   "cell_type": "code",
   "execution_count": null,
   "metadata": {},
   "outputs": [],
   "source": []
  },
  {
   "cell_type": "code",
   "execution_count": null,
   "metadata": {},
   "outputs": [],
   "source": []
  },
  {
   "cell_type": "code",
   "execution_count": null,
   "metadata": {},
   "outputs": [],
   "source": []
  }
 ],
 "metadata": {
  "kernelspec": {
   "display_name": "Python 3",
   "language": "python",
   "name": "python3"
  },
  "language_info": {
   "codemirror_mode": {
    "name": "ipython",
    "version": 3
   },
   "file_extension": ".py",
   "mimetype": "text/x-python",
   "name": "python",
   "nbconvert_exporter": "python",
   "pygments_lexer": "ipython3",
   "version": "3.7.3"
  }
 },
 "nbformat": 4,
 "nbformat_minor": 4
}
